{
 "cells": [
  {
   "cell_type": "markdown",
   "metadata": {},
   "source": [
    "# Tarea 2. \n",
    "\n",
    "Orlando Pereira Guzmán"
   ]
  },
  {
   "cell_type": "markdown",
   "metadata": {},
   "source": [
    "# Pregunta 1\n",
    "\n",
    "Determinar los autovalores y autovectores de la matriz brindada."
   ]
  },
  {
   "cell_type": "code",
   "execution_count": 5,
   "metadata": {},
   "outputs": [],
   "source": [
    "import numpy as np\n",
    "import numpy.linalg as LA\n",
    "import pandas as pd\n",
    "\n",
    "A=np.array([\n",
    "\t[0, 0, 0, 1, 0, 0],\n",
    "\t[0, 0, 0, 0, 1, 0],\n",
    "\t[0, 0, 0, 0, 0, 1],\n",
    "\t[-90.0465, 22.7276, 67.3188, -0.3333, 0, 0],\n",
    "\t[22.8521, -97.0081, 74.1560, 0, -0.3333, 0],\n",
    "\t[9.5048, 10.2589, -19.7637, 0, 0, -0.3333]\n",
    "\t])\n",
    "\n",
    "Autovalores, Autovectores=LA.eig(A)"
   ]
  },
  {
   "cell_type": "code",
   "execution_count": 31,
   "metadata": {
    "scrolled": true
   },
   "outputs": [
    {
     "data": {
      "text/html": [
       "<div>\n",
       "<style scoped>\n",
       "    .dataframe tbody tr th:only-of-type {\n",
       "        vertical-align: middle;\n",
       "    }\n",
       "\n",
       "    .dataframe tbody tr th {\n",
       "        vertical-align: top;\n",
       "    }\n",
       "\n",
       "    .dataframe thead th {\n",
       "        text-align: right;\n",
       "    }\n",
       "</style>\n",
       "<table border=\"1\" class=\"dataframe\">\n",
       "  <thead>\n",
       "    <tr style=\"text-align: right;\">\n",
       "      <th></th>\n",
       "      <th>0</th>\n",
       "    </tr>\n",
       "  </thead>\n",
       "  <tbody>\n",
       "    <tr>\n",
       "      <th>lambda_1</th>\n",
       "      <td>(-0.16665+10.80955082j)</td>\n",
       "    </tr>\n",
       "    <tr>\n",
       "      <th>lambda_2</th>\n",
       "      <td>(-0.16665-10.80955082j)</td>\n",
       "    </tr>\n",
       "    <tr>\n",
       "      <th>lambda_3</th>\n",
       "      <td>(-0.16665+9.48242351j)</td>\n",
       "    </tr>\n",
       "    <tr>\n",
       "      <th>lambda_4</th>\n",
       "      <td>(-0.16665-9.48242351j)</td>\n",
       "    </tr>\n",
       "    <tr>\n",
       "      <th>lambda_5</th>\n",
       "      <td>(-3.301e-05+0j)</td>\n",
       "    </tr>\n",
       "    <tr>\n",
       "      <th>lambda_6</th>\n",
       "      <td>(-0.33326699+0j)</td>\n",
       "    </tr>\n",
       "  </tbody>\n",
       "</table>\n",
       "</div>"
      ],
      "text/plain": [
       "                                0\n",
       "lambda_1  (-0.16665+10.80955082j)\n",
       "lambda_2  (-0.16665-10.80955082j)\n",
       "lambda_3   (-0.16665+9.48242351j)\n",
       "lambda_4   (-0.16665-9.48242351j)\n",
       "lambda_5          (-3.301e-05+0j)\n",
       "lambda_6         (-0.33326699+0j)"
      ]
     },
     "metadata": {},
     "output_type": "display_data"
    }
   ],
   "source": [
    "display(pd.DataFrame(Autovalores.round(8), index= ['lambda_'+str(x+1) for x in range(len(Autovalores))]))"
   ]
  },
  {
   "cell_type": "code",
   "execution_count": 30,
   "metadata": {},
   "outputs": [
    {
     "data": {
      "text/html": [
       "<div>\n",
       "<style scoped>\n",
       "    .dataframe tbody tr th:only-of-type {\n",
       "        vertical-align: middle;\n",
       "    }\n",
       "\n",
       "    .dataframe tbody tr th {\n",
       "        vertical-align: top;\n",
       "    }\n",
       "\n",
       "    .dataframe thead th {\n",
       "        text-align: right;\n",
       "    }\n",
       "</style>\n",
       "<table border=\"1\" class=\"dataframe\">\n",
       "  <thead>\n",
       "    <tr style=\"text-align: right;\">\n",
       "      <th></th>\n",
       "      <th>v_1</th>\n",
       "      <th>v_2</th>\n",
       "      <th>v_3</th>\n",
       "      <th>v_4</th>\n",
       "      <th>v_5</th>\n",
       "      <th>v_6</th>\n",
       "    </tr>\n",
       "  </thead>\n",
       "  <tbody>\n",
       "    <tr>\n",
       "      <th>1</th>\n",
       "      <td>(0.0008671+0.05624354j)</td>\n",
       "      <td>(0.0008671-0.05624354j)</td>\n",
       "      <td>(-0.00147082-0.08369019j)</td>\n",
       "      <td>(-0.00147082+0.08369019j)</td>\n",
       "      <td>(-0.5773499+0j)</td>\n",
       "      <td>(-0.54773311+0j)</td>\n",
       "    </tr>\n",
       "    <tr>\n",
       "      <th>2</th>\n",
       "      <td>(-0.00112379-0.07289342j)</td>\n",
       "      <td>(-0.00112379+0.07289342j)</td>\n",
       "      <td>(-0.00105225-0.05987355j)</td>\n",
       "      <td>(-0.00105225+0.05987355j)</td>\n",
       "      <td>(-0.57735042+0j)</td>\n",
       "      <td>(-0.5477336+0j)</td>\n",
       "    </tr>\n",
       "    <tr>\n",
       "      <th>3</th>\n",
       "      <td>(3.385e-05+0.00219567j)</td>\n",
       "      <td>(3.385e-05-0.00219567j)</td>\n",
       "      <td>(0.00035302+0.02008673j)</td>\n",
       "      <td>(0.00035302-0.02008673j)</td>\n",
       "      <td>(-0.57735049+0j)</td>\n",
       "      <td>(-0.54773367+0j)</td>\n",
       "    </tr>\n",
       "    <tr>\n",
       "      <th>4</th>\n",
       "      <td>(-0.60811186+0j)</td>\n",
       "      <td>(-0.60811186-0j)</td>\n",
       "      <td>(0.79383096+0j)</td>\n",
       "      <td>(0.79383096-0j)</td>\n",
       "      <td>(1.906e-05+0j)</td>\n",
       "      <td>(0.18254136+0j)</td>\n",
       "    </tr>\n",
       "    <tr>\n",
       "      <th>5</th>\n",
       "      <td>(0.78813245+0j)</td>\n",
       "      <td>(0.78813245-0j)</td>\n",
       "      <td>(0.56792172-0j)</td>\n",
       "      <td>(0.56792172+0j)</td>\n",
       "      <td>(1.906e-05+0j)</td>\n",
       "      <td>(0.18254153+0j)</td>\n",
       "    </tr>\n",
       "    <tr>\n",
       "      <th>6</th>\n",
       "      <td>(-0.02373988+0j)</td>\n",
       "      <td>(-0.02373988-0j)</td>\n",
       "      <td>(-0.19052971+0j)</td>\n",
       "      <td>(-0.19052971-0j)</td>\n",
       "      <td>(1.906e-05+0j)</td>\n",
       "      <td>(0.18254155+0j)</td>\n",
       "    </tr>\n",
       "  </tbody>\n",
       "</table>\n",
       "</div>"
      ],
      "text/plain": [
       "                         v_1                        v_2  \\\n",
       "1    (0.0008671+0.05624354j)    (0.0008671-0.05624354j)   \n",
       "2  (-0.00112379-0.07289342j)  (-0.00112379+0.07289342j)   \n",
       "3    (3.385e-05+0.00219567j)    (3.385e-05-0.00219567j)   \n",
       "4           (-0.60811186+0j)           (-0.60811186-0j)   \n",
       "5            (0.78813245+0j)            (0.78813245-0j)   \n",
       "6           (-0.02373988+0j)           (-0.02373988-0j)   \n",
       "\n",
       "                         v_3                        v_4               v_5  \\\n",
       "1  (-0.00147082-0.08369019j)  (-0.00147082+0.08369019j)   (-0.5773499+0j)   \n",
       "2  (-0.00105225-0.05987355j)  (-0.00105225+0.05987355j)  (-0.57735042+0j)   \n",
       "3   (0.00035302+0.02008673j)   (0.00035302-0.02008673j)  (-0.57735049+0j)   \n",
       "4            (0.79383096+0j)            (0.79383096-0j)    (1.906e-05+0j)   \n",
       "5            (0.56792172-0j)            (0.56792172+0j)    (1.906e-05+0j)   \n",
       "6           (-0.19052971+0j)           (-0.19052971-0j)    (1.906e-05+0j)   \n",
       "\n",
       "                v_6  \n",
       "1  (-0.54773311+0j)  \n",
       "2   (-0.5477336+0j)  \n",
       "3  (-0.54773367+0j)  \n",
       "4   (0.18254136+0j)  \n",
       "5   (0.18254153+0j)  \n",
       "6   (0.18254155+0j)  "
      ]
     },
     "metadata": {},
     "output_type": "display_data"
    }
   ],
   "source": [
    "display(pd.DataFrame(Autovectores.round(8), columns=['v_'+str(i+1) for i in range(len(Autovalores))], index= [i+1 for i in range(len(Autovalores))]))"
   ]
  },
  {
   "cell_type": "markdown",
   "metadata": {},
   "source": [
    "# Pregunta 2\n",
    "Matriz de magnitudes de participación"
   ]
  },
  {
   "cell_type": "code",
   "execution_count": 32,
   "metadata": {},
   "outputs": [],
   "source": [
    "W=LA.inv(Autovectores) \n",
    "\n",
    "# Cálculo de factores de participación \n",
    "\n",
    "P=np.zeros((6,6),dtype='complex')\n",
    "for k in range(6): # se mueve para las variables de estado\n",
    "    for i in range (6): # se mueve para los valores propios\n",
    "        P[k,i]= Autovectores[k,i]*W[i,k]\n",
    "\n",
    "Factor_Part = abs(P) #Matriz de participación"
   ]
  },
  {
   "cell_type": "code",
   "execution_count": 38,
   "metadata": {},
   "outputs": [
    {
     "data": {
      "text/html": [
       "<div>\n",
       "<style scoped>\n",
       "    .dataframe tbody tr th:only-of-type {\n",
       "        vertical-align: middle;\n",
       "    }\n",
       "\n",
       "    .dataframe tbody tr th {\n",
       "        vertical-align: top;\n",
       "    }\n",
       "\n",
       "    .dataframe thead th {\n",
       "        text-align: right;\n",
       "    }\n",
       "</style>\n",
       "<table border=\"1\" class=\"dataframe\">\n",
       "  <thead>\n",
       "    <tr style=\"text-align: right;\">\n",
       "      <th></th>\n",
       "      <th>lambda_1</th>\n",
       "      <th>lambda_2</th>\n",
       "      <th>lambda_3</th>\n",
       "      <th>lambda_4</th>\n",
       "      <th>lambda_5</th>\n",
       "      <th>lambda_6</th>\n",
       "    </tr>\n",
       "  </thead>\n",
       "  <tbody>\n",
       "    <tr>\n",
       "      <th>delta_G1</th>\n",
       "      <td>0.185641</td>\n",
       "      <td>0.185641</td>\n",
       "      <td>0.259414</td>\n",
       "      <td>0.259414</td>\n",
       "      <td>0.110025</td>\n",
       "      <td>0.000011</td>\n",
       "    </tr>\n",
       "    <tr>\n",
       "      <th>delta_G2</th>\n",
       "      <td>0.312260</td>\n",
       "      <td>0.312260</td>\n",
       "      <td>0.133584</td>\n",
       "      <td>0.133584</td>\n",
       "      <td>0.108438</td>\n",
       "      <td>0.000011</td>\n",
       "    </tr>\n",
       "    <tr>\n",
       "      <th>delta_G3</th>\n",
       "      <td>0.002159</td>\n",
       "      <td>0.002159</td>\n",
       "      <td>0.107078</td>\n",
       "      <td>0.107078</td>\n",
       "      <td>0.781637</td>\n",
       "      <td>0.000077</td>\n",
       "    </tr>\n",
       "    <tr>\n",
       "      <th>omega_G1</th>\n",
       "      <td>0.185641</td>\n",
       "      <td>0.185641</td>\n",
       "      <td>0.259414</td>\n",
       "      <td>0.259414</td>\n",
       "      <td>0.000011</td>\n",
       "      <td>0.110025</td>\n",
       "    </tr>\n",
       "    <tr>\n",
       "      <th>omega_G2</th>\n",
       "      <td>0.312260</td>\n",
       "      <td>0.312260</td>\n",
       "      <td>0.133584</td>\n",
       "      <td>0.133584</td>\n",
       "      <td>0.000011</td>\n",
       "      <td>0.108438</td>\n",
       "    </tr>\n",
       "    <tr>\n",
       "      <th>omega_G3</th>\n",
       "      <td>0.002159</td>\n",
       "      <td>0.002159</td>\n",
       "      <td>0.107078</td>\n",
       "      <td>0.107078</td>\n",
       "      <td>0.000077</td>\n",
       "      <td>0.781637</td>\n",
       "    </tr>\n",
       "  </tbody>\n",
       "</table>\n",
       "</div>"
      ],
      "text/plain": [
       "          lambda_1  lambda_2  lambda_3  lambda_4  lambda_5  lambda_6\n",
       "delta_G1  0.185641  0.185641  0.259414  0.259414  0.110025  0.000011\n",
       "delta_G2  0.312260  0.312260  0.133584  0.133584  0.108438  0.000011\n",
       "delta_G3  0.002159  0.002159  0.107078  0.107078  0.781637  0.000077\n",
       "omega_G1  0.185641  0.185641  0.259414  0.259414  0.000011  0.110025\n",
       "omega_G2  0.312260  0.312260  0.133584  0.133584  0.000011  0.108438\n",
       "omega_G3  0.002159  0.002159  0.107078  0.107078  0.000077  0.781637"
      ]
     },
     "metadata": {},
     "output_type": "display_data"
    }
   ],
   "source": [
    "display(pd.DataFrame(Factor_Part, columns=['lambda_'+str(x+1) for x in range(len(Autovalores))], index=['delta_G1','delta_G2','delta_G3', 'omega_G1', 'omega_G2', 'omega_G3']))"
   ]
  },
  {
   "cell_type": "markdown",
   "metadata": {},
   "source": [
    "# Pregunta 3\n",
    "Cálculo de \\xi y frecuencia para los modos"
   ]
  },
  {
   "cell_type": "code",
   "execution_count": 42,
   "metadata": {},
   "outputs": [],
   "source": [
    "datos_preg_3 = pd.DataFrame(np.nan, columns = ['xi', 'f'], index= ['lambda_'+str(x+1) for x in range(len(Autovalores))])\n",
    "\n",
    "for i in range(len(Autovalores)):\n",
    "    sigma = np.real(Autovalores[i])\n",
    "    omega = abs(np.imag(Autovalores[i]))\n",
    "    \n",
    "    omega_n = (np.sqrt(sigma*sigma + omega*omega))\n",
    "    xi = -sigma / omega_n\n",
    "    datos_preg_3.loc['lambda_'+str(i+1), 'xi'] = xi\n",
    "    \n",
    "    f = omega/(2*np.pi)\n",
    "    datos_preg_3.loc['lambda_'+str(i+1), 'f'] = f"
   ]
  },
  {
   "cell_type": "code",
   "execution_count": 43,
   "metadata": {},
   "outputs": [
    {
     "data": {
      "text/html": [
       "<div>\n",
       "<style scoped>\n",
       "    .dataframe tbody tr th:only-of-type {\n",
       "        vertical-align: middle;\n",
       "    }\n",
       "\n",
       "    .dataframe tbody tr th {\n",
       "        vertical-align: top;\n",
       "    }\n",
       "\n",
       "    .dataframe thead th {\n",
       "        text-align: right;\n",
       "    }\n",
       "</style>\n",
       "<table border=\"1\" class=\"dataframe\">\n",
       "  <thead>\n",
       "    <tr style=\"text-align: right;\">\n",
       "      <th></th>\n",
       "      <th>xi</th>\n",
       "      <th>f</th>\n",
       "    </tr>\n",
       "  </thead>\n",
       "  <tbody>\n",
       "    <tr>\n",
       "      <th>lambda_1</th>\n",
       "      <td>0.015415</td>\n",
       "      <td>1.720393</td>\n",
       "    </tr>\n",
       "    <tr>\n",
       "      <th>lambda_2</th>\n",
       "      <td>0.015415</td>\n",
       "      <td>1.720393</td>\n",
       "    </tr>\n",
       "    <tr>\n",
       "      <th>lambda_3</th>\n",
       "      <td>0.017572</td>\n",
       "      <td>1.509175</td>\n",
       "    </tr>\n",
       "    <tr>\n",
       "      <th>lambda_4</th>\n",
       "      <td>0.017572</td>\n",
       "      <td>1.509175</td>\n",
       "    </tr>\n",
       "    <tr>\n",
       "      <th>lambda_5</th>\n",
       "      <td>1.000000</td>\n",
       "      <td>0.000000</td>\n",
       "    </tr>\n",
       "    <tr>\n",
       "      <th>lambda_6</th>\n",
       "      <td>1.000000</td>\n",
       "      <td>0.000000</td>\n",
       "    </tr>\n",
       "  </tbody>\n",
       "</table>\n",
       "</div>"
      ],
      "text/plain": [
       "                xi         f\n",
       "lambda_1  0.015415  1.720393\n",
       "lambda_2  0.015415  1.720393\n",
       "lambda_3  0.017572  1.509175\n",
       "lambda_4  0.017572  1.509175\n",
       "lambda_5  1.000000  0.000000\n",
       "lambda_6  1.000000  0.000000"
      ]
     },
     "metadata": {},
     "output_type": "display_data"
    }
   ],
   "source": [
    "display(datos_preg_3)"
   ]
  },
  {
   "cell_type": "markdown",
   "metadata": {},
   "source": [
    "Respuesta a preguntas a y c: Los valores de frecuencia y porcentaje de amortiguamiento son los que corresponden a $\\lambda_1$ y $\\lambda_2$ ($f = 1.7257$ y $\\xi = 1.541\\%$) y a $\\lambda_3$ y $\\lambda_4$ ($f = 1.5092$ y $\\xi = 1.757\\%$)\n",
    "\n",
    "Respuesta a preguntas b y d: Según la matriz de participación, los estados asociados a $\\lambda_1$ y $\\lambda_2$ son $\\delta_{G2}$ y $\\omega_{G2}$, mientras que  en $\\lambda_3$ y $\\lambda_4$ son $\\delta_{G1}$ y $\\omega_{G1}$."
   ]
  },
  {
   "cell_type": "markdown",
   "metadata": {},
   "source": [
    "# Pregunta 4a. Modos 1 y 2 (Opcional)"
   ]
  },
  {
   "cell_type": "code",
   "execution_count": 52,
   "metadata": {},
   "outputs": [
    {
     "name": "stdout",
     "output_type": "stream",
     "text": [
      "PROBLEMA 4a: Primeros Autovalores 1-2\n"
     ]
    },
    {
     "data": {
      "image/png": "[encoded data removed]",
      "text/plain": [
       "<Figure size 432x288 with 1 Axes>"
      ]
     },
     "metadata": {
      "needs_background": "light"
     },
     "output_type": "display_data"
    },
    {
     "data": {
      "image/png": "[encoded data removed]",
      "text/plain": [
       "<Figure size 432x288 with 1 Axes>"
      ]
     },
     "metadata": {
      "needs_background": "light"
     },
     "output_type": "display_data"
    }
   ],
   "source": [
    "import matplotlib.pyplot as plt\n",
    "\n",
    "# Encontrar mayor norma de los elementos de vr\n",
    "def max_magnitude(vector):\n",
    "    max_magnitude = 0\n",
    "    for entry in vector:\n",
    "        magnitude = abs(entry)\n",
    "        if magnitude > max_magnitude:\n",
    "            max_magnitude = magnitude\n",
    "    \n",
    "    return max_magnitude\n",
    "\n",
    "#%% Parte 4a\n",
    "\n",
    "# Valores propios\n",
    "lambda_1 = Autovalores[0]\n",
    "lambda_2 = Autovalores[1]\n",
    "\n",
    "# Vectores propios asociados a lambda_y y lambda_s\n",
    "v_1_omega = list(np.transpose(Autovectores)[0][3:]) #tomando en cuenta únicamente la velocidad angular \n",
    "v_2_omega = list(np.transpose(Autovectores)[1][3:]) #tomando en cuenta únicamente la velocidad angular \n",
    "v_1_ang = list(np.transpose(Autovectores)[0][0:3]) #tomando en cuenta únicamente los ángulos\n",
    "v_2_ang = list(np.transpose(Autovectores)[1][0:3]) #tomando en cuenta únicamente los ángulos\n",
    "\n",
    "# Normalizar vr y vs con respecto a la mayor norma\n",
    "v_1_omega = [x/max_magnitude(v_1_omega) for x in v_1_omega]\n",
    "v_2_omega = [x/max_magnitude(v_2_omega) for x in v_2_omega]\n",
    "\n",
    "v_1_ang = [x/max_magnitude(v_1_ang) for x in v_1_ang]\n",
    "v_2_ang = [x/max_magnitude(v_2_ang) for x in v_2_ang]\n",
    "\n",
    "# Elegir vector (vr o vs)\n",
    "analysed_vectors = [v_1_omega, v_1_ang]\n",
    "#analysed_vectors = [v_1_omega, v_1_ang, v_2_omega, v_2_ang]\n",
    "\n",
    "print('PROBLEMA 4a: Primeros Autovalores 1-2')\n",
    "\n",
    "# Graficar formas de modo\n",
    "for fig_n in range(len(analysed_vectors)):\n",
    "\n",
    "    fig = plt.figure(fig_n)\n",
    "    re = [x.real for x in analysed_vectors[fig_n]]\n",
    "    im = [x.imag for x in analysed_vectors[fig_n]]\n",
    "    labels = ['G1', 'G2', 'G3']\n",
    "    colors = ['b', 'g', 'r']\n",
    "    plt.scatter(re, im, color=colors)\n",
    "    for i in range(3):\n",
    "        #plt.text(re[i]-0.02, im[i]+0.02, labels[i], fontsize=9)\n",
    "        plt.plot([0, re[i]], [0, im[i]], color = colors[i], label=labels[i])\n",
    "    \n",
    "    plt.plot(0, 0, color='k', marker='o')\n",
    "    plt.legend(fontsize=8, loc='center left', bbox_to_anchor=(1, 0.5))\n",
    "    \n",
    "    if fig_n == 0:\n",
    "        plt.title('Formas de nodo - Velocidad Angular')\n",
    "    else:\n",
    "        plt.title('Formas de nodo - Ángulo')\n",
    "    \n",
    "    "
   ]
  },
  {
   "cell_type": "markdown",
   "metadata": {},
   "source": [
    "# Pregunta 4b. Modos 3 y 4"
   ]
  },
  {
   "cell_type": "code",
   "execution_count": 54,
   "metadata": {},
   "outputs": [
    {
     "name": "stdout",
     "output_type": "stream",
     "text": [
      "PROBLEMA 4b: Segundos Autovalores 3-4\n"
     ]
    },
    {
     "data": {
      "image/png": "[encoded data removed]",
      "text/plain": [
       "<Figure size 432x288 with 1 Axes>"
      ]
     },
     "metadata": {
      "needs_background": "light"
     },
     "output_type": "display_data"
    },
    {
     "data": {
      "image/png": "[encoded data removed]",
      "text/plain": [
       "<Figure size 432x288 with 1 Axes>"
      ]
     },
     "metadata": {
      "needs_background": "light"
     },
     "output_type": "display_data"
    }
   ],
   "source": [
    "# Valores propios\n",
    "lambda_1 = Autovalores[2]\n",
    "lambda_2 = Autovalores[3]\n",
    "\n",
    "# Vectores propios asociados a lambda_y y lambda_s\n",
    "v_1_omega = list(np.transpose(Autovectores)[2][3:]) #tomando en cuenta únicamente la velocidad angular \n",
    "v_2_omega = list(np.transpose(Autovectores)[3][3:]) #tomando en cuenta únicamente la velocidad angular \n",
    "v_1_ang = list(np.transpose(Autovectores)[2][0:3]) #tomando en cuenta únicamente los ángulos\n",
    "v_2_ang = list(np.transpose(Autovectores)[3][0:3]) #tomando en cuenta únicamente los ángulos \n",
    "\n",
    "# Normalizar vr y vs con respecto a la mayor norma\n",
    "v_1_omega = [x/max_magnitude(v_1_omega) for x in v_1_omega]\n",
    "v_2_omega = [x/max_magnitude(v_2_omega) for x in v_2_omega]\n",
    "\n",
    "v_1_ang = [x/max_magnitude(v_1_ang) for x in v_1_ang]\n",
    "v_2_ang = [x/max_magnitude(v_2_ang) for x in v_2_ang]\n",
    "\n",
    "# Elegir vector (vr o vs)\n",
    "analysed_vectors = [v_1_omega, v_1_ang]\n",
    "#analysed_vectors = [v_1_omega, v_1_ang, v_2_omega, v_2_ang]\n",
    "\n",
    "print('PROBLEMA 4b: Segundos Autovalores 3-4')\n",
    "\n",
    "for fig_n in range(len(analysed_vectors)):\n",
    "\n",
    "# Graficar formas de modo\n",
    "    fig = plt.figure(fig_n)\n",
    "    re = [x.real for x in analysed_vectors[fig_n]]\n",
    "    im = [x.imag for x in analysed_vectors[fig_n]]\n",
    "    labels = ['G1', 'G2', 'G3']\n",
    "    colors = ['b', 'g', 'r']\n",
    "    plt.scatter(re, im, color=colors)\n",
    "    for i in range(3):\n",
    "        #plt.text(re[i]-0.02, im[i]+0.02, labels[i], fontsize=9)\n",
    "        plt.plot([0, re[i]], [0, im[i]], color = colors[i], label=labels[i])\n",
    "    plt.plot(0, 0, color='k', marker='o')\n",
    "    plt.legend(fontsize=8, loc='center left', bbox_to_anchor=(1, 0.5))\n",
    "    if fig_n == 0:\n",
    "        plt.title('Formas de nodo - Velocidad Angular')\n",
    "    else:\n",
    "        plt.title('Formas de nodo - Ángulo')"
   ]
  },
  {
   "cell_type": "code",
   "execution_count": null,
   "metadata": {},
   "outputs": [],
   "source": []
  }
 ],
 "metadata": {
  "kernelspec": {
   "display_name": "Python 3",
   "language": "python",
   "name": "python3"
  },
  "language_info": {
   "codemirror_mode": {
    "name": "ipython",
    "version": 3
   },
   "file_extension": ".py",
   "mimetype": "text/x-python",
   "name": "python",
   "nbconvert_exporter": "python",
   "pygments_lexer": "ipython3",
   "version": "3.7.3"
  }
 },
 "nbformat": 4,
 "nbformat_minor": 2
}
